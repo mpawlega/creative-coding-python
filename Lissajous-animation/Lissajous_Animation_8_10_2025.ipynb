{
 "cells": [
  {
   "cell_type": "markdown",
   "id": "3f54107e",
   "metadata": {},
   "source": [
    "## Lissajous Curves with Python FuncAnimation"
   ]
  },
  {
   "cell_type": "markdown",
   "id": "78c60ad5",
   "metadata": {},
   "source": [
    "This project uses the Python FuncAnimation library to animate parametric functions, namely Lissajous Curves, and allows for customizable plot attributes."
   ]
  },
  {
   "cell_type": "code",
   "execution_count": 7,
   "id": "0a88a2ae",
   "metadata": {},
   "outputs": [],
   "source": [
    "# imports\n",
    "import matplotlib; matplotlib.use(\"TkAgg\")\n",
    "import matplotlib.pyplot as plt\n",
    "import numpy as np\n",
    "from matplotlib.animation import FuncAnimation\n",
    "from scipy.integrate import odeint"
   ]
  },
  {
   "cell_type": "markdown",
   "id": "f09169ba",
   "metadata": {},
   "source": [
    "The first class, *AnimationParameters*, is used to define revelant parameters used for plotting and the animation call. The parameters include **interval**, **frames**, **trail length**, **color**, **marker**, **marker size**, **line width**, and parametric functions for a 2D axes. \n",
    "\n",
    "The parameters include the following:\n",
    "- **Interval**:"
   ]
  },
  {
   "cell_type": "code",
   "execution_count": 3,
   "id": "19af6477",
   "metadata": {},
   "outputs": [],
   "source": [
    "class AnimationParameters:\n",
    "\n",
    "    def __init__(self, interval, frames, trail_length, color, marker, marker_size, line_width, x_parametric, y_parametric):\n",
    "        self.interval = interval\n",
    "        self.frames = frames\n",
    "        self.trail_length = trail_length\n",
    "        self.color = color\n",
    "        self.marker = marker\n",
    "        self.marker_size = marker_size\n",
    "        self.line_width = line_width\n",
    "        self.x_parametric = x_parametric\n",
    "        self.y_parametric = y_parametric\n",
    "\n",
    "\n",
    "    def set_parameters(self, interval2, frames2, trail_length2, color2, marker2, marker_size2, line_width2, x_parametric2, y_parametric2):\n",
    "        self.interval = interval2\n",
    "        self.frames = frames2\n",
    "        self.trail_length = trail_length2\n",
    "        self.color = color2\n",
    "        self.marker = marker2\n",
    "        self.markersize = marker_size2\n",
    "        self.linewidth = line_width2\n",
    "        self.x_parametric = x_parametric2\n",
    "        self.y_parametric = y_parametric2\n",
    "\n",
    "    def get_parameters(self):\n",
    "        return [self.interval, self.frames, self.trail_length, self.color, self.marker,\n",
    "        self.marker_size, self.line_width, self.x_parametric, self.y_parametric]\n",
    "    "
   ]
  },
  {
   "cell_type": "markdown",
   "id": "4b7f82a6",
   "metadata": {},
   "source": [
    "The next class, *AnimationPlotter*, uses parameters from *AnimationParameters* to create a plot, trail, and animation. The **plot** method creates all necessary plot attributes and the trail object. The **update_trail** method updates the trail array at each frame by evaluating its parametrized coordinates and ensures the array does not exceed the trail length. The **animation** method will then create the animation. "
   ]
  },
  {
   "cell_type": "code",
   "execution_count": 4,
   "id": "3b828fa2",
   "metadata": {},
   "outputs": [],
   "source": [
    "class AnimationPlotter:\n",
    "    def __init__(self, animation_parameter_object):\n",
    "        self.animation_parameter_object = animation_parameter_object\n",
    "        self.x_trail = []\n",
    "        self.y_trail = []\n",
    "        self.fig = None\n",
    "        self.ax = None\n",
    "        #self.trail, =  None\n",
    "\n",
    "    def plot(self):\n",
    "        self.fig, self.ax = plt.subplots(dpi=500)\n",
    "        self.ax.axis([-15,15,-15,15])\n",
    "        self.ax.set_aspect(\"equal\")\n",
    "        self.ax.set_facecolor('xkcd:black')\n",
    "        self.ax.tick_params(axis='x', bottom=False, labelbottom=False)\n",
    "        self.ax.tick_params(axis='y', left=False, labelleft=False)\n",
    "        self.trail, = self.ax.plot(0, 0, alpha=1, linewidth = self.animation_parameter_object[6], color = self.animation_parameter_object[3], marker = self.animation_parameter_object[4], markersize = self.animation_parameter_object[5]) \n",
    "    \n",
    "    def update_trail(self, phi): \n",
    "        x_func = self.animation_parameter_object[7]\n",
    "        y_func = self.animation_parameter_object[8]\n",
    "        x = x_func(phi)\n",
    "        y = y_func(phi)\n",
    "\n",
    "        self.x_trail.append(x) \n",
    "        self.y_trail.append(y)\n",
    "\n",
    "        if len(self.x_trail) > self.animation_parameter_object[2]:\n",
    "            self.x_trail.pop(0)\n",
    "            self.y_trail.pop(0)\n",
    "\n",
    "        self.trail.set_data(self.x_trail, self.y_trail)\n",
    "        return self.trail, \n",
    "\n",
    "    def animation(self): \n",
    "        ani = FuncAnimation(self.fig, self.update_trail, interval=self.animation_parameter_object[0], blit=True, repeat=True,\n",
    "                    frames=self.animation_parameter_object[1])\n",
    "        plt.show()\n"
   ]
  },
  {
   "cell_type": "markdown",
   "id": "722eb724",
   "metadata": {},
   "source": []
  },
  {
   "cell_type": "markdown",
   "id": "926eb824",
   "metadata": {},
   "source": [
    "Finally, objects are initialized to create the animations."
   ]
  },
  {
   "cell_type": "code",
   "execution_count": 5,
   "id": "e1be1ef3",
   "metadata": {},
   "outputs": [],
   "source": [
    "# Class calls\n",
    "\n",
    "def x_parametric(phi):\n",
    "    return 12 * np.sin(2* phi + phi)\n",
    "\n",
    "def y_parametric(phi):\n",
    "    return 7 * np.sin(16 * phi)\n",
    "\n",
    "parameter_object = AnimationParameters(30, np.linspace(0, 3*np.pi, 360*4), 100, \"lime\", \"o\", 0.5, 0, x_parametric, y_parametric)\n",
    "retrieve_parameter_object = parameter_object.get_parameters() \n",
    "\n",
    "plot_object = AnimationPlotter(retrieve_parameter_object)\n",
    "plot_object_initialize = plot_object.plot()\n",
    "plot_object_animate = plot_object.animation()"
   ]
  },
  {
   "attachments": {},
   "cell_type": "markdown",
   "id": "edd268b8",
   "metadata": {},
   "source": [
    "In the next iteration, a *DifferentialEquation* and *ParametricEquations* class will be created to add more customizability to the functions animated. Then, the animation will be optimized for rendering. This code will be modified to work with the Duffing Oscillator and other differential equations (DEs)."
   ]
  },
  {
   "cell_type": "code",
   "execution_count": 12,
   "id": "c62a279a",
   "metadata": {},
   "outputs": [
    {
     "ename": "NameError",
     "evalue": "name 't' is not defined",
     "output_type": "error",
     "traceback": [
      "\u001b[31m---------------------------------------------------------------------------\u001b[39m",
      "\u001b[31mNameError\u001b[39m                                 Traceback (most recent call last)",
      "\u001b[36mCell\u001b[39m\u001b[36m \u001b[39m\u001b[32mIn[12]\u001b[39m\u001b[32m, line 36\u001b[39m\n\u001b[32m     32\u001b[39m         \u001b[38;5;28;01mreturn\u001b[39;00m position, velocity\n\u001b[32m     35\u001b[39m differential_equation_parameters_object = DifferentialEquationParameters(np.arange(\u001b[32m0\u001b[39m, \u001b[32m1000\u001b[39m, \u001b[32m0.1\u001b[39m), \u001b[32m0.1\u001b[39m, \u001b[32m0.0\u001b[39m, \u001b[32m8\u001b[39m, \u001b[32m0.1\u001b[39m, \u001b[32m1\u001b[39m, \u001b[32m2\u001b[39m, -\u001b[32m16\u001b[39m, \u001b[32m1\u001b[39m)\n\u001b[32m---> \u001b[39m\u001b[32m36\u001b[39m differential_equation_object = differential_equation_parameters_object.DifferentialEquation(\u001b[43mt\u001b[49m, y)\n",
      "\u001b[31mNameError\u001b[39m: name 't' is not defined"
     ]
    }
   ],
   "source": [
    "# Duffing Oscillator DE\n",
    "def Duffing_ODE(t, y):\n",
    "    x, v = y\n",
    "    dxdt = v\n",
    "    dvdt = - delta * v - alpha * x - beta * (x ** 3) + gamma * np.cos(omega * t)\n",
    "    return [dxdt, dvdt]\n",
    "\n",
    "time_values = np.arange(0, 1000, 0.1)\n",
    "scale_factor = 8\n",
    "#pos, vel = scale_factor * odeint(myODE2, [0.1, 0.0], time_val).T \n",
    "\n",
    "class DifferentialEquationParameters:\n",
    "    def __init__(self, time_values, initial_position, initial_velocity, scale_factor, delta, alpha, beta, gamma, omega):\n",
    "        self.time_values = time_values\n",
    "        self.initial_position = initial_position \n",
    "        self.initial_velocity = initial_velocity\n",
    "        self.scale_factor = scale_factor\n",
    "        self.delta = delta\n",
    "        self.alpha = alpha\n",
    "        self.beta = beta\n",
    "        self.gamma = gamma\n",
    "        self.omega = omega \n",
    "\n",
    "    def DifferentialEquation(self, t, y):\n",
    "        x, v = self.y\n",
    "        dxdt = x\n",
    "        dvdt = dvdt = - self.delta * v - self.alpha * x - self.beta * (x ** 3) + self.gamma * np.cos(self.omega * self.t)\n",
    "        return [dxdt, dvdt]\n",
    "    \n",
    "    def DifferentialEquationSolve(self, myODE):\n",
    "        solution = self.scale_factor * odeint(myODE,[ self.initial_position, self.initial_velocity] , self.time_values)\n",
    "        position2 = solution[:, 0]\n",
    "        velocity2 = solution[:, 1] # row first, column second\n",
    "        return position2, velocity2\n",
    "\n",
    "\n",
    "differential_equation_parameters_object = DifferentialEquationParameters(np.arange(0, 1000, 0.1), 0.1, 0.0, 8, 0.1, 1, 2, -16, 1)\n",
    "differential_equation_object = differential_equation_parameters_object.DifferentialEquation(t, y) #workaround? need it to go into ODE solver? \n",
    "\n",
    "\n",
    "# the user should be able to define the dxdt and dydt themselves, so assume this is just for 2nd order ODEs, could also make for first order but nah\n"
   ]
  },
  {
   "cell_type": "code",
   "execution_count": null,
   "id": "c3b3f25a",
   "metadata": {},
   "outputs": [],
   "source": [
    "def Duffing_ODE(y, t):\n",
    "    delta, alpha, beta, gamma, omega = 0.2, -1, 1, 0.3, 1.2\n",
    "    x, v = y\n",
    "    dxdt = v\n",
    "    dvdt = - delta * v - alpha * x - beta * (x ** 3) + gamma * np.cos(omega * t)\n",
    "    return [dxdt, dvdt]\n",
    "\n",
    "#times = np.arange(0, 1000, 0.1)\n",
    "times = times = np.linspace(0, 10, 100)\n",
    "initial_conditions = [0.1, 0.0]\n",
    "\n",
    "solution = odeint(Duffing_ODE, initial_conditions, times)\n",
    "position2 = solution[:, 0]\n",
    "velocity2 = solution[:, 1] # row first, column second\n",
    "\n",
    "plt.plot(position2, velocity2)\n",
    "plt.show()"
   ]
  },
  {
   "cell_type": "code",
   "execution_count": null,
   "id": "cb505e0b",
   "metadata": {},
   "outputs": [],
   "source": [
    "x_trail = pos.tolist()\n",
    "y_trail = vel.tolist()\n",
    "\n",
    "\n",
    "\n",
    "# function\n",
    "def func(x):\n",
    "    return x\n",
    "\n",
    "# update animation\n",
    "def update(phi):\n",
    "    x = pos[phi]\n",
    "    y = vel[phi]\n",
    "\n",
    "    x_trail.append(x)\n",
    "    y_trail.append(y)\n",
    "\n",
    "    #start = max(0, phi - trail_length)\n",
    "\n",
    "    \n",
    "    #point.set_data([x],[y])\n",
    "\n",
    "    #x_trail.append(pos[phi])\n",
    "    #y_trail.append(vel[phi])\n",
    "\n",
    "    if len(x_trail) > trail_length:\n",
    "        x_trail.pop(0)\n",
    "        y_trail.pop(0)\n",
    "    trail.set_data(x_trail, y_trail)\n",
    "\n",
    "    return trail,\n"
   ]
  }
 ],
 "metadata": {
  "kernelspec": {
   "display_name": "Python 3",
   "language": "python",
   "name": "python3"
  },
  "language_info": {
   "codemirror_mode": {
    "name": "ipython",
    "version": 3
   },
   "file_extension": ".py",
   "mimetype": "text/x-python",
   "name": "python",
   "nbconvert_exporter": "python",
   "pygments_lexer": "ipython3",
   "version": "3.12.3"
  }
 },
 "nbformat": 4,
 "nbformat_minor": 5
}
