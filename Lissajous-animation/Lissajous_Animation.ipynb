{
 "cells": [
  {
   "cell_type": "markdown",
   "id": "3f54107e",
   "metadata": {},
   "source": [
    "## Lissajous Curves with Python FuncAnimation"
   ]
  },
  {
   "cell_type": "markdown",
   "id": "78c60ad5",
   "metadata": {},
   "source": [
    "This project uses the Python FuncAnimation library to animate parametric functions, namely Lissajous Curves, and allows for customizable plot attributes."
   ]
  },
  {
   "cell_type": "code",
   "execution_count": null,
   "id": "0a88a2ae",
   "metadata": {},
   "outputs": [],
   "source": [
    "# imports\n",
    "import matplotlib; matplotlib.use(\"TkAgg\")\n",
    "import matplotlib.pyplot as plt\n",
    "import numpy as np\n",
    "from matplotlib.animation import FuncAnimation"
   ]
  },
  {
   "cell_type": "markdown",
   "id": "f09169ba",
   "metadata": {},
   "source": [
    "The first class, *AnimationParameters*, is used to define revelant parameters used for plotting and the animation call. The parameters include **interval**, **frames**, **trail length**, **color**, **marker**, **marker size**, **line width**, and parametric functions for a 2D axes. \n",
    "\n",
    "The parameters include the following:\n",
    "- **Interval**:"
   ]
  },
  {
   "cell_type": "code",
   "execution_count": null,
   "id": "19af6477",
   "metadata": {},
   "outputs": [],
   "source": [
    "class AnimationParameters:\n",
    "\n",
    "    def __init__(self, interval, frames, trail_length, color, marker, marker_size, line_width, x_parametric, y_parametric):\n",
    "        self.interval = interval\n",
    "        self.frames = frames\n",
    "        self.trail_length = trail_length\n",
    "        self.color = color\n",
    "        self.marker = marker\n",
    "        self.marker_size = marker_size\n",
    "        self.line_width = line_width\n",
    "        self.x_parametric = x_parametric\n",
    "        self.y_parametric = y_parametric\n",
    "\n",
    "\n",
    "    def set_parameters(self, interval2, frames2, trail_length2, color2, marker2, marker_size2, line_width2, x_parametric2, y_parametric2):\n",
    "        self.interval = interval2\n",
    "        self.frames = frames2\n",
    "        self.trail_length = trail_length2\n",
    "        self.color = color2\n",
    "        self.marker = marker2\n",
    "        self.markersize = marker_size2\n",
    "        self.linewidth = line_width2\n",
    "        self.x_parametric = x_parametric2\n",
    "        self.y_parametric = y_parametric2\n",
    "\n",
    "    def get_parameters(self):\n",
    "        return [self.interval, self.frames, self.trail_length, self.color, self.marker,\n",
    "        self.marker_size, self.line_width, self.x_parametric, self.y_parametric]\n",
    "    "
   ]
  },
  {
   "cell_type": "markdown",
   "id": "4b7f82a6",
   "metadata": {},
   "source": [
    "The next class, *AnimationPlotter*, uses parameters from *AnimationParameters* to create a plot, trail, and animation. The **plot** method creates all necessary plot attributes and the trail object. The **update_trail** method updates the trail array at each frame by evaluating its parametrized coordinates and ensures the array does not exceed the trail length. The **animation** method will then create the animation. "
   ]
  },
  {
   "cell_type": "code",
   "execution_count": null,
   "id": "3b828fa2",
   "metadata": {},
   "outputs": [],
   "source": [
    "class AnimationPlotter:\n",
    "    def __init__(self, animation_parameter_object):\n",
    "        self.animation_parameter_object = animation_parameter_object\n",
    "        self.x_trail = []\n",
    "        self.y_trail = []\n",
    "        self.fig = None\n",
    "        self.ax = None\n",
    "        #self.trail, =  None\n",
    "\n",
    "    def plot(self):\n",
    "        self.fig, self.ax = plt.subplots(dpi=500)\n",
    "        self.ax.axis([-15,15,-15,15])\n",
    "        self.ax.set_aspect(\"equal\")\n",
    "        self.ax.set_facecolor('xkcd:black')\n",
    "        self.ax.tick_params(axis='x', bottom=False, labelbottom=False)\n",
    "        self.ax.tick_params(axis='y', left=False, labelleft=False)\n",
    "        self.trail, = self.ax.plot(0, 0, alpha=1, linewidth = self.animation_parameter_object[6], color = self.animation_parameter_object[3], marker = self.animation_parameter_object[4], markersize = self.animation_parameter_object[5]) \n",
    "    \n",
    "    def update_trail(self, phi): \n",
    "        x_func = self.animation_parameter_object[7]\n",
    "        y_func = self.animation_parameter_object[8]\n",
    "        x = x_func(phi)\n",
    "        y = y_func(phi)\n",
    "\n",
    "        self.x_trail.append(x) \n",
    "        self.y_trail.append(y)\n",
    "\n",
    "        if len(self.x_trail) > self.animation_parameter_object[2]:\n",
    "            self.x_trail.pop(0)\n",
    "            self.y_trail.pop(0)\n",
    "\n",
    "        self.trail.set_data(self.x_trail, self.y_trail)\n",
    "        return self.trail, \n",
    "\n",
    "    def animation(self): \n",
    "        ani = FuncAnimation(self.fig, self.update_trail, interval=self.animation_parameter_object[0], blit=True, repeat=True,\n",
    "                    frames=self.animation_parameter_object[1])\n",
    "        plt.show()\n"
   ]
  },
  {
   "cell_type": "markdown",
   "id": "722eb724",
   "metadata": {},
   "source": []
  },
  {
   "cell_type": "markdown",
   "id": "926eb824",
   "metadata": {},
   "source": [
    "Finally, objects are initialized to create the animations."
   ]
  },
  {
   "cell_type": "code",
   "execution_count": null,
   "id": "e1be1ef3",
   "metadata": {},
   "outputs": [],
   "source": [
    "# Class calls\n",
    "\n",
    "def x_parametric(phi):\n",
    "    return 12 * np.sin(2* phi + phi)\n",
    "\n",
    "def y_parametric(phi):\n",
    "    return 7 * np.sin(16 * phi)\n",
    "\n",
    "parameter_object = AnimationParameters(30, np.linspace(0, 3*np.pi, 360*4), 100, \"lime\", \"o\", 0.5, 0, x_parametric, y_parametric)\n",
    "retrieve_parameter_object = parameter_object.get_parameters() \n",
    "\n",
    "plot_object = AnimationPlotter(retrieve_parameter_object)\n",
    "plot_object_initialize = plot_object.plot()\n",
    "plot_object_animate = plot_object.animation()"
   ]
  },
  {
   "cell_type": "markdown",
   "id": "edd268b8",
   "metadata": {},
   "source": [
    "In the next iteration, a *DifferentialEquation* and *ParametricEquations* class will be created to add more customizability to the functions animated. Then, the animation will be optimized for rendering."
   ]
  }
 ],
 "metadata": {
  "kernelspec": {
   "display_name": "Python 3",
   "language": "python",
   "name": "python3"
  },
  "language_info": {
   "codemirror_mode": {
    "name": "ipython",
    "version": 3
   },
   "file_extension": ".py",
   "mimetype": "text/x-python",
   "name": "python",
   "nbconvert_exporter": "python",
   "pygments_lexer": "ipython3",
   "version": "3.13.5"
  }
 },
 "nbformat": 4,
 "nbformat_minor": 5
}
