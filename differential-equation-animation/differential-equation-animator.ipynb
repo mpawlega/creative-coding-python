{
 "cells": [
  {
   "cell_type": "markdown",
   "id": "91fac31b",
   "metadata": {},
   "source": [
    "# Animation of Duffing Oscillator, Simple Harmonic Motion, and Lotka–Volterra Predator-Prey"
   ]
  },
  {
   "cell_type": "markdown",
   "id": "25bedcf5",
   "metadata": {},
   "source": [
    "## Imports"
   ]
  },
  {
   "cell_type": "code",
   "execution_count": 100,
   "id": "17505721",
   "metadata": {},
   "outputs": [],
   "source": [
    "# imports\n",
    "import matplotlib; matplotlib.use(\"TkAgg\")\n",
    "import matplotlib.pyplot as plt\n",
    "import numpy as np\n",
    "from matplotlib.animation import FuncAnimation\n",
    "from scipy.integrate import odeint"
   ]
  },
  {
   "cell_type": "markdown",
   "id": "e830cc83",
   "metadata": {},
   "source": [
    "## Classes"
   ]
  },
  {
   "cell_type": "markdown",
   "id": "85a8c744",
   "metadata": {},
   "source": [
    "Note these classes follow the same format as the Lisasjour Curve animations with adjustments for differential equations."
   ]
  },
  {
   "cell_type": "markdown",
   "id": "cb5c32b6",
   "metadata": {},
   "source": [
    "### Animation Parameters"
   ]
  },
  {
   "cell_type": "code",
   "execution_count": 101,
   "id": "daa821ce",
   "metadata": {},
   "outputs": [],
   "source": [
    "class AnimationParameters:\n",
    "    def __init__(self, interval, frames, trail_length, color, marker, marker_size, line_width):\n",
    "        self.interval = interval\n",
    "        self.frames = frames\n",
    "        self.trail_length = trail_length\n",
    "        self.color = color\n",
    "        self.marker = marker\n",
    "        self.marker_size = marker_size\n",
    "        self.line_width = line_width\n",
    "\n",
    "    def set_parameters(self, interval2, frames2, trail_length2, color2, marker2, marker_size2, line_width2):\n",
    "        self.interval = interval2\n",
    "        self.frames = frames2\n",
    "        self.trail_length = trail_length2\n",
    "        self.color = color2\n",
    "        self.marker = marker2\n",
    "        self.markersize = marker_size2\n",
    "        self.linewidth = line_width2\n",
    "\n",
    "    def get_parameters(self):\n",
    "        return [self.interval, self.frames, self.trail_length, self.color, self.marker,\n",
    "        self.marker_size, self.line_width]"
   ]
  },
  {
   "cell_type": "markdown",
   "id": "0a7f8517",
   "metadata": {},
   "source": [
    "### Animation ODE Plotter"
   ]
  },
  {
   "cell_type": "code",
   "execution_count": 102,
   "id": "3611a85a",
   "metadata": {},
   "outputs": [],
   "source": [
    "class AnimationPlotterODE:\n",
    "    def __init__(self, animation_parameter_object, ODEarrays): \n",
    "        self.animation_parameter_object = animation_parameter_object\n",
    "        self.x_trail = []\n",
    "        self.y_trail = []\n",
    "        self.ODEarrays = ODEarrays\n",
    "        self.fig = None\n",
    "        self.ax = None\n",
    "\n",
    "    def plot(self):\n",
    "        plt.rcParams[\"figure.figsize\"] = 48,32\n",
    "        self.fig, self.ax = plt.subplots(dpi=500)\n",
    "        self.ax.axis([-15,15,-15,15])\n",
    "        self.ax.set_aspect(\"equal\")\n",
    "        self.ax.set_facecolor('xkcd:black')\n",
    "        self.ax.tick_params(axis='x', bottom=False, labelbottom=False)\n",
    "        self.ax.tick_params(axis='y', left=False, labelleft=False)\n",
    "        self.trail, = self.ax.plot(0, 0, alpha=1, linewidth = self.animation_parameter_object[6], color = self.animation_parameter_object[3], marker = self.animation_parameter_object[4], markersize = self.animation_parameter_object[5]) \n",
    "    \n",
    "    def update_trail(self, phi): \n",
    "        x = self.ODEarrays[0][phi]\n",
    "        y = self.ODEarrays[1][phi]\n",
    "\n",
    "        self.x_trail.append(x) \n",
    "        self.y_trail.append(y)\n",
    "\n",
    "        if len(self.x_trail) > self.animation_parameter_object[2]:\n",
    "            self.x_trail.pop(0)\n",
    "            self.y_trail.pop(0)\n",
    "\n",
    "        self.trail.set_data(self.x_trail, self.y_trail)\n",
    "        return self.trail, \n",
    "\n",
    "    def animation(self): \n",
    "        ani = FuncAnimation(self.fig, self.update_trail, interval=self.animation_parameter_object[0], blit=True, repeat=True,\n",
    "                    frames=self.animation_parameter_object[1])\n",
    "        plt.show()"
   ]
  },
  {
   "cell_type": "markdown",
   "id": "a5c21d54",
   "metadata": {},
   "source": [
    "### Differential Equation Parameters"
   ]
  },
  {
   "cell_type": "code",
   "execution_count": 103,
   "id": "7a86bdf1",
   "metadata": {},
   "outputs": [],
   "source": [
    "class DifferentialEquationParameters:\n",
    "    def __init__(self, time_values, initial_position, initial_velocity, scale_factor):\n",
    "        self.time_values = time_values\n",
    "        self.initial_position = initial_position \n",
    "        self.initial_velocity = initial_velocity\n",
    "        self.scale_factor = scale_factor\n",
    "    \n",
    "    def DifferentialEquationSolver(self, myODE):\n",
    "        solution = self.scale_factor * odeint(myODE, [self.initial_position, self.initial_velocity] , self.time_values)\n",
    "        position2 = solution[:, 0]\n",
    "        velocity2 = solution[:, 1] \n",
    "        return position2, velocity2"
   ]
  },
  {
   "cell_type": "markdown",
   "id": "9c62698a",
   "metadata": {},
   "source": [
    "## Differential Equation Funtion and Animation Call"
   ]
  },
  {
   "cell_type": "markdown",
   "id": "d7a98697",
   "metadata": {},
   "source": [
    "### Example 1: Duffing Oscillator"
   ]
  },
  {
   "cell_type": "code",
   "execution_count": 104,
   "id": "9f3a570e",
   "metadata": {},
   "outputs": [],
   "source": [
    "# Define Differential Equation\n",
    "def my_duffing_de(y, t):\n",
    "        delta, alpha, beta, gamma, omega = 0.2, -1, 1, 0.3, 1.2\n",
    "        x, v = y\n",
    "        dxdt = v\n",
    "        dvdt = dvdt = - delta * v - alpha * x - beta * (x ** 3) + gamma * np.cos(omega * t)\n",
    "        return [dxdt, dvdt]\n",
    "\n",
    "\n",
    "# Class Calls\n",
    "differential_equation_parameters_object = DifferentialEquationParameters(np.linspace(0, 10, 100), 0.1, 0.0, 6)\n",
    "differential_equation_solver_object = differential_equation_parameters_object.DifferentialEquationSolver(my_duffing_de) \n",
    "\n",
    "parameter_object_2 = AnimationParameters(30, 100, 100, \"lime\", \"o\", 0.5, 0)\n",
    "retrieve_parameter_object_2 = parameter_object_2.get_parameters() \n",
    "\n",
    "plot_object_2 = AnimationPlotterODE(retrieve_parameter_object_2, differential_equation_solver_object)\n",
    "plot_object_initialize_2 = plot_object_2.plot()\n",
    "plot_object_animate_2 = plot_object_2.animation()"
   ]
  },
  {
   "cell_type": "markdown",
   "id": "bfbe69d6",
   "metadata": {},
   "source": [
    "### Example 2: Simple Harmonic Motion"
   ]
  },
  {
   "cell_type": "code",
   "execution_count": 111,
   "id": "8f81ed2a",
   "metadata": {},
   "outputs": [],
   "source": [
    "# Define Differential Equation\n",
    "def my_simple_harmonic_oscillator_de(y, t):\n",
    "        omega = 0.2\n",
    "        x, v = y\n",
    "        dxdt = v\n",
    "        dvdt = dvdt = - omega **2 * x\n",
    "        return [dxdt, dvdt]\n",
    "\n",
    "\n",
    "# Class Calls\n",
    "differential_equation_parameters_object_3 = DifferentialEquationParameters(np.linspace(0, 100, 100), 0.2, 0.0, 40)\n",
    "differential_equation_solver_object_3 = differential_equation_parameters_object_3.DifferentialEquationSolver(my_simple_harmonic_oscillator_de) \n",
    "\n",
    "parameter_object_3 = AnimationParameters(30, 100, 20, \"red\", \"o\", 1.5, 0)\n",
    "retrieve_parameter_object_3 = parameter_object_3.get_parameters() \n",
    "\n",
    "plot_object_3 = AnimationPlotterODE(retrieve_parameter_object_3, differential_equation_solver_object_3)\n",
    "plot_object_initialize_3 = plot_object_3.plot()\n",
    "plot_object_animate_3 = plot_object_3.animation()"
   ]
  },
  {
   "cell_type": "markdown",
   "id": "82d67045",
   "metadata": {},
   "source": [
    "### Example 3: Lotka–Volterra"
   ]
  },
  {
   "cell_type": "code",
   "execution_count": 118,
   "id": "a433a9d6",
   "metadata": {},
   "outputs": [],
   "source": [
    "# Define Differential Equation\n",
    "def my_lotka_de(y, t):\n",
    "        alpha, beta, gamma, delta = 2/3, 4/3, 1, 1\n",
    "        prey, predator = y\n",
    "        dprey_dt = alpha * prey - beta * prey * predator\n",
    "        dpredator_dt = - gamma * predator + delta * prey * predator\n",
    "        return [dprey_dt, dpredator_dt]\n",
    "\n",
    "# Class Calls\n",
    "differential_equation_parameters_object_4 = DifferentialEquationParameters(np.linspace(0, 10, 100), 1.5, 1.5, 4)\n",
    "differential_equation_solver_object_4 = differential_equation_parameters_object_4.DifferentialEquationSolver(my_lotka_de) \n",
    "\n",
    "parameter_object_4 = AnimationParameters(30, 100, 25, \"blue\", \".\", 0.5, 0)\n",
    "retrieve_parameter_object_4 = parameter_object_4.get_parameters() \n",
    "\n",
    "plot_object_4 = AnimationPlotterODE(retrieve_parameter_object_4, differential_equation_solver_object_4)\n",
    "plot_object_initialize_4 = plot_object_4.plot()\n",
    "plot_object_animate_4 = plot_object_4.animation()"
   ]
  }
 ],
 "metadata": {
  "kernelspec": {
   "display_name": "Python 3",
   "language": "python",
   "name": "python3"
  },
  "language_info": {
   "codemirror_mode": {
    "name": "ipython",
    "version": 3
   },
   "file_extension": ".py",
   "mimetype": "text/x-python",
   "name": "python",
   "nbconvert_exporter": "python",
   "pygments_lexer": "ipython3",
   "version": "3.13.5"
  }
 },
 "nbformat": 4,
 "nbformat_minor": 5
}
