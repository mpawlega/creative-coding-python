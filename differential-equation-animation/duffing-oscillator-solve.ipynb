{
 "cells": [
  {
   "cell_type": "markdown",
   "id": "5f3fda2e",
   "metadata": {},
   "source": [
    "# The Duffing Oscillator"
   ]
  },
  {
   "cell_type": "markdown",
   "id": "7f658edb",
   "metadata": {},
   "source": [
    "The Duffing Oscillator is a non-linear second-order differential equation. This system represents a damped driven oscilator, where $x$ corresponds to displacement over time, $x(t)$.\n",
    "\n",
    "$\\ddot{x} + \\delta \\dot{x} + \\alpha x + \\beta x^{3} = \\gamma cos(\\omega t)$\n",
    "\n",
    "$\\ddot{x} = - \\delta \\dot{x} - \\alpha x - \\beta x^{3} + \\gamma cos(\\omega t)$\n",
    "\n",
    "\n",
    "\n",
    "In order to solve this, we need to seperate the differential equation (DE) into two first order DE's by defining $x_1$ and $x_2$ for a vairable substitution.\n",
    "\n",
    "$x_1 = x$\n",
    "\n",
    "$x_2 = x_1' = \\dot{x}$\n",
    "\n",
    "$x_2' = \\ddot{x}$\n",
    "\n",
    "Next, we can write code to describe each first order DE in terms of the variables defined, for some variable $Y$, where $Y[1] = \\dot{x}$ and $Y[0] = x $.\n",
    "\n",
    "\n",
    "\n",
    "$Y[0]' = - \\delta \\dot{x} - \\alpha x - \\beta x^{3} + \\gamma cos(\\omega t) = \\ddot{x} =  x_{2}'$\n",
    "\n",
    "$Y[1]' = \\dot{x} = x_{1}' = x_{2}$\n",
    "\n",
    "\n",
    "\n",
    "\n",
    "\n"
   ]
  },
  {
   "cell_type": "code",
   "execution_count": 14,
   "id": "ce176c14",
   "metadata": {},
   "outputs": [],
   "source": [
    "# Imports\n",
    "import matplotlib; matplotlib.use(\"TkAgg\")\n",
    "import matplotlib.pyplot as plt\n",
    "import numpy as np\n",
    "from matplotlib.animation import FuncAnimation\n",
    "from scipy.integrate import odeint"
   ]
  },
  {
   "cell_type": "code",
   "execution_count": 13,
   "id": "c08e0096",
   "metadata": {},
   "outputs": [],
   "source": [
    "# Function\n",
    "def myODE(Y, t):\n",
    "    delta, alpha, beta, gamma, omega = 0.2, -1, 1, 0.3, 1.2\n",
    "    x2_prime = - delta * Y[1] - alpha * Y[0] - beta * (Y[0] ** 3) + gamma * np.cos(omega * t)\n",
    "    x1_prime = Y[1]\n",
    "    return [x1_prime, x2_prime]\n",
    "\n",
    "# Variables\n",
    "time_val = np.arange(0, 1000, 0.1)\n",
    "initial_conditions = [0.1, 0.0]\n",
    "scale_factor = 8\n",
    "position1, velocity1 = scale_factor * odeint(myODE, initial_conditions, time_val).T \n",
    "\n",
    "# Plotting\n",
    "plt.rcParams[\"figure.figsize\"] = 24,16\n",
    "fig, ax = plt.subplots(dpi=500)\n",
    "ax.axis([-15,15,-15,15])\n",
    "ax.set_aspect(\"equal\")\n",
    "ax.set_facecolor('xkcd:black')\n",
    "ax.tick_params(axis='x', bottom=False, labelbottom=False)\n",
    "ax.tick_params(axis='y', left=False, labelleft=False)\n",
    "plt.plot(position1, velocity1)\n",
    "plt.show()"
   ]
  },
  {
   "cell_type": "markdown",
   "id": "894ea041",
   "metadata": {},
   "source": [
    "Alternatively, the system can be treated as position, $x$, and velocity, $v$, to define the first order differential equations respectively. \n",
    "\n",
    "$\\dot{x} = y$, and $\\dot{y} = \\ddot{x}$"
   ]
  },
  {
   "cell_type": "code",
   "execution_count": 15,
   "id": "77756772",
   "metadata": {},
   "outputs": [],
   "source": [
    "# Function\n",
    "def Duffing_ODE(y, t):\n",
    "    delta, alpha, beta, gamma, omega = 0.2, -1, 1, 0.3, 1.2\n",
    "    x, v = y\n",
    "    dxdt = v\n",
    "    dvdt = - delta * v - alpha * x - beta * (x ** 3) + gamma * np.cos(omega * t)\n",
    "    return [dxdt, dvdt]\n",
    "\n",
    "# Variables\n",
    "times = times = np.linspace(0, 10, 100)\n",
    "initial_conditions = [0.1, 0.0]\n",
    "scale_factor = 8\n",
    "solution = scale_factor * odeint(Duffing_ODE, initial_conditions, times)\n",
    "position2 = solution[:, 0]\n",
    "velocity2 = solution[:, 1] \n",
    "\n",
    "# Plotting\n",
    "plt.rcParams[\"figure.figsize\"] = 24,16\n",
    "fig, ax = plt.subplots(dpi=500)\n",
    "ax.axis([-15,15,-15,15])\n",
    "ax.set_aspect(\"equal\")\n",
    "ax.set_facecolor('xkcd:black')\n",
    "ax.tick_params(axis='x', bottom=False, labelbottom=False)\n",
    "ax.tick_params(axis='y', left=False, labelleft=False)\n",
    "plt.plot(position2, velocity2)\n",
    "plt.show()"
   ]
  }
 ],
 "metadata": {
  "kernelspec": {
   "display_name": "Python 3",
   "language": "python",
   "name": "python3"
  },
  "language_info": {
   "codemirror_mode": {
    "name": "ipython",
    "version": 3
   },
   "file_extension": ".py",
   "mimetype": "text/x-python",
   "name": "python",
   "nbconvert_exporter": "python",
   "pygments_lexer": "ipython3",
   "version": "3.13.5"
  }
 },
 "nbformat": 4,
 "nbformat_minor": 5
}
