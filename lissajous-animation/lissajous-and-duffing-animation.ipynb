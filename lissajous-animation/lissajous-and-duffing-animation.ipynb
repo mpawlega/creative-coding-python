{
 "cells": [
  {
   "cell_type": "markdown",
   "id": "3f54107e",
   "metadata": {},
   "source": [
    "## Lissajous Curves with Python FuncAnimation"
   ]
  },
  {
   "cell_type": "markdown",
   "id": "78c60ad5",
   "metadata": {},
   "source": [
    "This project uses the Python FuncAnimation library to animate and customize parametric functions and differential equations, including Lissajous Curves and the Duffing Oscillator."
   ]
  },
  {
   "cell_type": "code",
   "execution_count": 21,
   "id": "0a88a2ae",
   "metadata": {},
   "outputs": [],
   "source": [
    "# Imports\n",
    "import matplotlib; matplotlib.use(\"TkAgg\")\n",
    "import matplotlib.pyplot as plt\n",
    "import numpy as np\n",
    "from matplotlib.animation import FuncAnimation\n",
    "from scipy.integrate import odeint"
   ]
  },
  {
   "cell_type": "markdown",
   "id": "f09169ba",
   "metadata": {},
   "source": [
    "The first class, *AnimationParameters*, is used to define revelant parameters used for plotting and the animation call. The parameters include **interval**, **frames**, **trail length**, **color**, **marker**, **marker size**, **line width**, and parametric functions for a 2D axes. "
   ]
  },
  {
   "cell_type": "code",
   "execution_count": 22,
   "id": "19af6477",
   "metadata": {},
   "outputs": [],
   "source": [
    "class AnimationParameters:\n",
    "    def __init__(self, interval, frames, trail_length, color, marker, marker_size, line_width, x_parametric, y_parametric):\n",
    "        self.interval = interval\n",
    "        self.frames = frames\n",
    "        self.trail_length = trail_length\n",
    "        self.color = color\n",
    "        self.marker = marker\n",
    "        self.marker_size = marker_size\n",
    "        self.line_width = line_width\n",
    "        self.x_parametric = x_parametric\n",
    "        self.y_parametric = y_parametric\n",
    "\n",
    "    def set_parameters(self, interval2, frames2, trail_length2, color2, marker2, marker_size2, line_width2, x_parametric2, y_parametric2):\n",
    "        self.interval = interval2\n",
    "        self.frames = frames2\n",
    "        self.trail_length = trail_length2\n",
    "        self.color = color2\n",
    "        self.marker = marker2\n",
    "        self.markersize = marker_size2\n",
    "        self.linewidth = line_width2\n",
    "        self.x_parametric = x_parametric2\n",
    "        self.y_parametric = y_parametric2\n",
    "\n",
    "    def get_parameters(self):\n",
    "        return [self.interval, self.frames, self.trail_length, self.color, self.marker,\n",
    "        self.marker_size, self.line_width, self.x_parametric, self.y_parametric]"
   ]
  },
  {
   "cell_type": "markdown",
   "id": "4b7f82a6",
   "metadata": {},
   "source": [
    "The next class, *AnimationPlotter*, uses parameters from *AnimationParameters* to create a plot, trail, and animation. The **plot** method creates all necessary plot attributes and the trail object. The **update_trail** method updates the trail array at each frame by evaluating its parametrized coordinates and ensures the array does not exceed the trail length. The **animation** method will then create the animation. "
   ]
  },
  {
   "cell_type": "code",
   "execution_count": 23,
   "id": "3b828fa2",
   "metadata": {},
   "outputs": [],
   "source": [
    "class AnimationPlotter:\n",
    "    def __init__(self, animation_parameter_object):\n",
    "        self.animation_parameter_object = animation_parameter_object\n",
    "        self.x_trail = []\n",
    "        self.y_trail = []\n",
    "        self.fig = None\n",
    "        self.ax = None\n",
    "        #self.trail, =  None\n",
    "\n",
    "    def plot(self):\n",
    "        self.fig, self.ax = plt.subplots(dpi=500)\n",
    "        self.ax.axis([-15,15,-15,15])\n",
    "        self.ax.set_aspect(\"equal\")\n",
    "        self.ax.set_facecolor('xkcd:black')\n",
    "        self.ax.tick_params(axis='x', bottom=False, labelbottom=False)\n",
    "        self.ax.tick_params(axis='y', left=False, labelleft=False)\n",
    "        self.trail, = self.ax.plot(0, 0, alpha=1, linewidth = self.animation_parameter_object[6], color = self.animation_parameter_object[3], marker = self.animation_parameter_object[4], markersize = self.animation_parameter_object[5]) \n",
    "    \n",
    "    def update_trail(self, phi): \n",
    "        x_func = self.animation_parameter_object[7]\n",
    "        y_func = self.animation_parameter_object[8]\n",
    "        x = x_func(phi)\n",
    "        y = y_func(phi)\n",
    "\n",
    "        self.x_trail.append(x) \n",
    "        self.y_trail.append(y)\n",
    "\n",
    "        if len(self.x_trail) > self.animation_parameter_object[2]:\n",
    "            self.x_trail.pop(0)\n",
    "            self.y_trail.pop(0)\n",
    "\n",
    "        self.trail.set_data(self.x_trail, self.y_trail)\n",
    "        return self.trail, \n",
    "\n",
    "    def animation(self): \n",
    "        ani = FuncAnimation(self.fig, self.update_trail, interval=self.animation_parameter_object[0], blit=True, repeat=True,\n",
    "                    frames=self.animation_parameter_object[1])\n",
    "        plt.show()"
   ]
  },
  {
   "cell_type": "markdown",
   "id": "926eb824",
   "metadata": {},
   "source": [
    "Finally, objects are initialized to create the animations."
   ]
  },
  {
   "cell_type": "code",
   "execution_count": 24,
   "id": "e1be1ef3",
   "metadata": {},
   "outputs": [],
   "source": [
    "# Parametric equations\n",
    "def x_parametric(phi):\n",
    "    return 12 * np.sin(2* phi + phi)\n",
    "\n",
    "def y_parametric(phi):\n",
    "    return 7 * np.sin(16 * phi)\n",
    "\n",
    "# Class calls\n",
    "parameter_object = AnimationParameters(30, np.linspace(0, 3*np.pi, 360*4), 100, \"lime\", \"o\", 0.5, 0, x_parametric, y_parametric)\n",
    "retrieve_parameter_object = parameter_object.get_parameters() \n",
    "\n",
    "plot_object = AnimationPlotter(retrieve_parameter_object)\n",
    "plot_object_initialize = plot_object.plot()\n",
    "plot_object_animate = plot_object.animation()"
   ]
  },
  {
   "attachments": {},
   "cell_type": "markdown",
   "id": "edd268b8",
   "metadata": {},
   "source": [
    " The *DifferentialEquationParameters* class solves differential equations and returns two solution arrays. Then, the *AnimationPlotterODE* class will return animated renders of the differential equation. Note *AnimationPlotterODE* is adapted from the original *AnimationPlotter* as it's working with arrays and not parametric equations. In future these classes may be refined to handle both inputs and additonal parameters."
   ]
  },
  {
   "cell_type": "code",
   "execution_count": 25,
   "id": "52a0b2b9",
   "metadata": {},
   "outputs": [],
   "source": [
    "class AnimationPlotterODE:\n",
    "    def __init__(self, animation_parameter_object, ODEarrays): \n",
    "        self.animation_parameter_object = animation_parameter_object\n",
    "        self.x_trail = []\n",
    "        self.y_trail = []\n",
    "        self.ODEarrays = ODEarrays\n",
    "        self.fig = None\n",
    "        self.ax = None\n",
    "        #self.trail, =  None\n",
    "\n",
    "    def plot(self):\n",
    "        self.fig, self.ax = plt.subplots(dpi=500)\n",
    "        self.ax.axis([-15,15,-15,15])\n",
    "        self.ax.set_aspect(\"equal\")\n",
    "        self.ax.set_facecolor('xkcd:black')\n",
    "        self.ax.tick_params(axis='x', bottom=False, labelbottom=False)\n",
    "        self.ax.tick_params(axis='y', left=False, labelleft=False)\n",
    "        self.trail, = self.ax.plot(0, 0, alpha=1, linewidth = self.animation_parameter_object[6], color = self.animation_parameter_object[3], marker = self.animation_parameter_object[4], markersize = self.animation_parameter_object[5]) \n",
    "    \n",
    "    def update_trail(self, phi): \n",
    "        x = self.ODEarrays[0][phi]\n",
    "        y = self.ODEarrays[1][phi]\n",
    "\n",
    "        self.x_trail.append(x) \n",
    "        self.y_trail.append(y)\n",
    "\n",
    "        if len(self.x_trail) > self.animation_parameter_object[2]:\n",
    "            self.x_trail.pop(0)\n",
    "            self.y_trail.pop(0)\n",
    "\n",
    "        self.trail.set_data(self.x_trail, self.y_trail)\n",
    "        return self.trail, \n",
    "\n",
    "    def animation(self): \n",
    "        ani = FuncAnimation(self.fig, self.update_trail, interval=self.animation_parameter_object[0], blit=True, repeat=True,\n",
    "                    frames=self.animation_parameter_object[1])\n",
    "        plt.show()"
   ]
  },
  {
   "cell_type": "code",
   "execution_count": 26,
   "id": "c6ab16d7",
   "metadata": {},
   "outputs": [],
   "source": [
    "class DifferentialEquationParameters:\n",
    "    def __init__(self, time_values, initial_position, initial_velocity, scale_factor):\n",
    "        self.time_values = time_values\n",
    "        self.initial_position = initial_position \n",
    "        self.initial_velocity = initial_velocity\n",
    "        self.scale_factor = scale_factor\n",
    "    \n",
    "    def DifferentialEquationSolver(self, myODE):\n",
    "        solution = self.scale_factor * odeint(myODE, [self.initial_position, self.initial_velocity] , self.time_values)\n",
    "        position2 = solution[:, 0]\n",
    "        velocity2 = solution[:, 1] \n",
    "        return position2, velocity2"
   ]
  },
  {
   "cell_type": "code",
   "execution_count": 27,
   "id": "c62a279a",
   "metadata": {},
   "outputs": [],
   "source": [
    "# Differential Equation\n",
    "def Duffing_ODE(y, t):\n",
    "    delta, alpha, beta, gamma, omega = 0.2, -1, 1, 0.3, 1.2\n",
    "    x, v = y\n",
    "    dxdt = v\n",
    "    dvdt = - delta * v - alpha * x - beta * (x ** 3) + gamma * np.cos(omega * t)\n",
    "    return [dxdt, dvdt]\n",
    "\n",
    "# Parameters\n",
    "times = times = np.linspace(0, 10, 100)\n",
    "initial_conditions = [0.1, 0.0]\n",
    "scale_factor = 2\n",
    "\n",
    "solution = scale_factor * odeint(Duffing_ODE, initial_conditions, times)\n",
    "position2 = solution[:, 0]\n",
    "velocity2 = solution[:, 1] \n",
    "\n",
    "\n",
    "# Class calls\n",
    "differential_equation_parameters_object = DifferentialEquationParameters(np.linspace(0, 10, 100), 0.1, 0.0, 6)\n",
    "differential_equation_solver_object = differential_equation_parameters_object.DifferentialEquationSolver(Duffing_ODE)\n",
    "\n",
    "parameter_object_2 = AnimationParameters(30, 100, 100, \"lime\", \"o\", 0.5, 0, 0, 0)\n",
    "retrieve_parameter_object_2 = parameter_object_2.get_parameters() \n",
    "\n",
    "plot_object_2 = AnimationPlotterODE(retrieve_parameter_object_2, differential_equation_solver_object)\n",
    "plot_object_initialize_2 = plot_object_2.plot()\n",
    "plot_object_animate_2 = plot_object_2.animation()"
   ]
  }
 ],
 "metadata": {
  "kernelspec": {
   "display_name": "Python 3",
   "language": "python",
   "name": "python3"
  },
  "language_info": {
   "codemirror_mode": {
    "name": "ipython",
    "version": 3
   },
   "file_extension": ".py",
   "mimetype": "text/x-python",
   "name": "python",
   "nbconvert_exporter": "python",
   "pygments_lexer": "ipython3",
   "version": "3.13.5"
  }
 },
 "nbformat": 4,
 "nbformat_minor": 5
}
